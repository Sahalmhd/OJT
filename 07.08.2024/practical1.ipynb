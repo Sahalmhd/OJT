{
 "cells": [
  {
   "cell_type": "code",
   "execution_count": 1,
   "metadata": {},
   "outputs": [],
   "source": [
    "# classification of customer support system\n",
    "# rule based text classification\n",
    "def classify_request(text):\n",
    "    text = text.lower()\n",
    "    if any (\n",
    "        keyword in text for keyword in [\n",
    "            \"billing\",\"invoice\", \"charge\"\n",
    "        ]\n",
    "    ):\n",
    "        return\"billing issue\"\n",
    "    elif any (\n",
    "        keyword in text for keyword in[\n",
    "            \"password\", \"access\",\"login\", \"account\"\n",
    "        ]\n",
    "    ):\n",
    "        return\"Techinical support\"\n",
    "    elif any (\n",
    "        keyword in text for keyword in[\n",
    "            \"hours\",\"time\",\"location\",\"general\"\n",
    "        ]\n",
    "    ):\n",
    "        return\"general support\"\n",
    "    else:\n",
    "        return \"other support\""
   ]
  },
  {
   "cell_type": "code",
   "execution_count": 2,
   "metadata": {},
   "outputs": [
    {
     "name": "stdout",
     "output_type": "stream",
     "text": [
      "request:my account is blocked\n",
      " category:Techinical support\n",
      "\n",
      "request:i need my last billing details\n",
      " category:billing issue\n",
      "\n",
      "request:i need to know the timing of my order\n",
      " category:other support\n",
      "\n"
     ]
    }
   ],
   "source": [
    "# test sample\n",
    "requestes = [\n",
    "    \"my account is blocked\",\n",
    "    \"i need my last billing details\",\n",
    "    \"i need to know the timing of my order\"\n",
    "]\n",
    "for request in requestes:\n",
    "    category = classify_request(request)\n",
    "    print(f\"request:{request}\\n category:{category}\\n\")"
   ]
  }
 ],
 "metadata": {
  "kernelspec": {
   "display_name": "Python 3",
   "language": "python",
   "name": "python3"
  },
  "language_info": {
   "codemirror_mode": {
    "name": "ipython",
    "version": 3
   },
   "file_extension": ".py",
   "mimetype": "text/x-python",
   "name": "python",
   "nbconvert_exporter": "python",
   "pygments_lexer": "ipython3",
   "version": "3.12.4"
  }
 },
 "nbformat": 4,
 "nbformat_minor": 2
}
